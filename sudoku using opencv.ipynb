{
 "cells": [
  {
   "cell_type": "markdown",
   "id": "44de2a37",
   "metadata": {},
   "source": [
    "<center><img src='channels4_profile.jpg' height=\"auto\" width=\"200\" /></center>\n",
    "\n",
    "\n",
    "# SOLVING SUDOKU PUZZLE USING OPENCV"
   ]
  },
  {
   "cell_type": "markdown",
   "id": "85bfae38",
   "metadata": {},
   "source": [
    "STEPS TO SOLVE SUDOKU PUZZLE USING OPENCV PYTHON:\n",
    "- LOAD INPUT IMAGE\n",
    "- LOCALIZE SUDOKU PUZZLE IN INPUT IMAGE\n",
    "- LOCATE EACH 9 x 9 CELL OF SUDOKU \n",
    "- EXTRACT DIGITS, IF PRESENT IN EACH 81 CELLS, OTHERWISE 0\n",
    "- STORE EXTRACTED DIGITS IN 2D ARRAY OF SIZE 9 x 9\n",
    "- USE ANY SUDOKU SOLVING ALGORITHM TO SOLVE THE PUZZLE, TAKING 2D ARRAY AS INPUT\n",
    "- DISPLAY THE RESULT BY ANNOTATING IN THE ORIGINAL IMAGE"
   ]
  },
  {
   "cell_type": "markdown",
   "id": "042a1390",
   "metadata": {},
   "source": [
    "### IMPORT ALL REQUIRED LIBRARIES"
   ]
  },
  {
   "cell_type": "code",
   "execution_count": 220,
   "id": "87d59671",
   "metadata": {},
   "outputs": [],
   "source": [
    "import numpy as np\n",
    "import imageio\n",
    "from imutils import contours\n",
    "import cv2"
   ]
  },
  {
   "cell_type": "markdown",
   "id": "7495f443",
   "metadata": {},
   "source": [
    "### LOAD INPUT IMAGE\n"
   ]
  },
  {
   "cell_type": "code",
   "execution_count": 266,
   "id": "dc228b57",
   "metadata": {},
   "outputs": [],
   "source": [
    "src = cv2.imread('image66.png')"
   ]
  },
  {
   "cell_type": "code",
   "execution_count": 267,
   "id": "7d655c55",
   "metadata": {},
   "outputs": [],
   "source": [
    "cv2.imshow('original image',src)\n",
    "cv2.waitKey(0)\n",
    "cv2.destroyAllWindows()"
   ]
  },
  {
   "cell_type": "markdown",
   "id": "7368ab90",
   "metadata": {},
   "source": [
    "### CONVERT INTO GRAY SCALE IMAGE"
   ]
  },
  {
   "cell_type": "code",
   "execution_count": 268,
   "id": "244788f5",
   "metadata": {},
   "outputs": [],
   "source": [
    "gray = cv2.cvtColor(src, cv2.COLOR_BGR2GRAY)"
   ]
  },
  {
   "cell_type": "code",
   "execution_count": 269,
   "id": "c588285d",
   "metadata": {},
   "outputs": [
    {
     "name": "stdout",
     "output_type": "stream",
     "text": [
      "[[100  89  62 ... 102 102 102]\n",
      " [100 255 255 ... 255 255 102]\n",
      " [100 255 255 ... 255 255 102]\n",
      " ...\n",
      " [102 255 255 ... 255 255 102]\n",
      " [102 255 255 ... 255 255 102]\n",
      " [102 102 102 ... 102 102 102]]\n"
     ]
    }
   ],
   "source": [
    "print(gray)"
   ]
  },
  {
   "cell_type": "code",
   "execution_count": 270,
   "id": "33a173c3",
   "metadata": {},
   "outputs": [],
   "source": [
    "cv2.imshow('gray image',gray)\n",
    "cv2.waitKey(0)\n",
    "cv2.destroyAllWindows()"
   ]
  },
  {
   "cell_type": "markdown",
   "id": "378e4171",
   "metadata": {},
   "source": [
    "### convert into black and white image"
   ]
  },
  {
   "cell_type": "code",
   "execution_count": 271,
   "id": "566efa8d",
   "metadata": {},
   "outputs": [],
   "source": [
    "gray = cv2.bitwise_not(gray)\n",
    "bw = cv2.adaptiveThreshold(gray, 255, cv2.ADAPTIVE_THRESH_MEAN_C,cv2.THRESH_BINARY, 15, -2)"
   ]
  },
  {
   "cell_type": "code",
   "execution_count": 272,
   "id": "00882813",
   "metadata": {},
   "outputs": [
    {
     "name": "stdout",
     "output_type": "stream",
     "text": [
      "[[255 255 255 ... 255 255 255]\n",
      " [255   0   0 ...   0   0 255]\n",
      " [255   0   0 ...   0   0 255]\n",
      " ...\n",
      " [255   0   0 ...   0   0 255]\n",
      " [255   0   0 ...   0   0 255]\n",
      " [255 255 255 ... 255 255 255]]\n"
     ]
    }
   ],
   "source": [
    "print(bw)"
   ]
  },
  {
   "cell_type": "code",
   "execution_count": 273,
   "id": "9123fae0",
   "metadata": {},
   "outputs": [],
   "source": [
    "cv2.imshow('black white image',bw)\n",
    "cv2.waitKey(0)\n",
    "cv2.destroyAllWindows()"
   ]
  },
  {
   "cell_type": "code",
   "execution_count": 172,
   "id": "68324d98",
   "metadata": {},
   "outputs": [],
   "source": [
    "### Extract HORIZONTAL AND VERTICAL LINES"
   ]
  },
  {
   "cell_type": "code",
   "execution_count": 274,
   "id": "5145d4dc",
   "metadata": {},
   "outputs": [],
   "source": [
    "horizontal = np.copy(bw)\n",
    "vertical = np.copy(bw)"
   ]
  },
  {
   "cell_type": "code",
   "execution_count": 275,
   "id": "8ddb497e",
   "metadata": {},
   "outputs": [],
   "source": [
    "cols = horizontal.shape[1]\n",
    "horizontal_size = cols // 10"
   ]
  },
  {
   "cell_type": "code",
   "execution_count": 276,
   "id": "2ac2317d",
   "metadata": {},
   "outputs": [],
   "source": [
    "horizontalStructure = cv2.getStructuringElement(cv2.MORPH_RECT, (horizontal_size, 1))"
   ]
  },
  {
   "cell_type": "code",
   "execution_count": 277,
   "id": "2c9af72c",
   "metadata": {},
   "outputs": [],
   "source": [
    "horizontal = cv2.erode(horizontal, horizontalStructure)\n",
    "horizontal = cv2.dilate(horizontal, horizontalStructure)"
   ]
  },
  {
   "cell_type": "code",
   "execution_count": 278,
   "id": "a97624ff",
   "metadata": {},
   "outputs": [],
   "source": [
    "cv2.imshow('horizontal lines',horizontal)\n",
    "cv2.waitKey(0)\n",
    "cv2.destroyAllWindows()"
   ]
  },
  {
   "cell_type": "code",
   "execution_count": 279,
   "id": "98a03245",
   "metadata": {},
   "outputs": [],
   "source": [
    "rows = vertical.shape[0]\n",
    "verticalsize = rows // 10"
   ]
  },
  {
   "cell_type": "code",
   "execution_count": 280,
   "id": "3aa72f3c",
   "metadata": {},
   "outputs": [],
   "source": [
    "verticalStructure = cv2.getStructuringElement(cv2.MORPH_RECT, (1, verticalsize))"
   ]
  },
  {
   "cell_type": "code",
   "execution_count": 281,
   "id": "82e61d42",
   "metadata": {},
   "outputs": [],
   "source": [
    "vertical = cv2.erode(vertical, verticalStructure)\n",
    "vertical = cv2.dilate(vertical, verticalStructure)"
   ]
  },
  {
   "cell_type": "code",
   "execution_count": 282,
   "id": "6d96f4f5",
   "metadata": {},
   "outputs": [],
   "source": [
    "cv2.imshow('vertical lines',vertical)\n",
    "cv2.waitKey(0)\n",
    "cv2.destroyAllWindows()"
   ]
  },
  {
   "cell_type": "markdown",
   "id": "b1db4d2b",
   "metadata": {},
   "source": [
    "### concatenate horizontal and vertical lines to form grid"
   ]
  },
  {
   "cell_type": "code",
   "execution_count": 283,
   "id": "32967f47",
   "metadata": {},
   "outputs": [],
   "source": [
    "new_image = cv2.bitwise_or(vertical,horizontal)"
   ]
  },
  {
   "cell_type": "code",
   "execution_count": 284,
   "id": "956c6f46",
   "metadata": {},
   "outputs": [],
   "source": [
    "cv2.imshow('grids',new_image)\n",
    "cv2.waitKey(0)\n",
    "cv2.destroyAllWindows()"
   ]
  },
  {
   "cell_type": "code",
   "execution_count": 285,
   "id": "116787db",
   "metadata": {},
   "outputs": [],
   "source": [
    "new_im = cv2.bitwise_not(new_image)"
   ]
  },
  {
   "cell_type": "code",
   "execution_count": 286,
   "id": "99aca309",
   "metadata": {},
   "outputs": [],
   "source": [
    "edges = cv2.adaptiveThreshold(new_im, 255, cv2.ADAPTIVE_THRESH_MEAN_C,cv2.THRESH_BINARY, 3, -2)"
   ]
  },
  {
   "cell_type": "code",
   "execution_count": 287,
   "id": "2dbc3d2e",
   "metadata": {},
   "outputs": [],
   "source": [
    "cv2.imshow('concatenated image',edges)\n",
    "cv2.waitKey(0)\n",
    "cv2.destroyAllWindows()"
   ]
  },
  {
   "cell_type": "code",
   "execution_count": 288,
   "id": "64ba88b5",
   "metadata": {},
   "outputs": [],
   "source": [
    "kernel = np.ones((2, 2), np.uint8)\n",
    "edges = cv2.dilate(edges, kernel)"
   ]
  },
  {
   "cell_type": "code",
   "execution_count": 289,
   "id": "ae7a22c6",
   "metadata": {},
   "outputs": [],
   "source": [
    "cv2.imshow('dilated edges',edges)\n",
    "cv2.waitKey(0)\n",
    "cv2.destroyAllWindows()"
   ]
  },
  {
   "cell_type": "code",
   "execution_count": 290,
   "id": "63cfc235",
   "metadata": {},
   "outputs": [],
   "source": [
    "smooth = cv2.blur(edges, (2, 2))"
   ]
  },
  {
   "cell_type": "code",
   "execution_count": 291,
   "id": "026d1dd6",
   "metadata": {},
   "outputs": [],
   "source": [
    "cv2.imshow('smooth edges',smooth)\n",
    "cv2.waitKey(0)\n",
    "cv2.destroyAllWindows()"
   ]
  },
  {
   "cell_type": "markdown",
   "id": "a7cfb0ab",
   "metadata": {},
   "source": [
    "### find contours of detected edges"
   ]
  },
  {
   "cell_type": "code",
   "execution_count": 292,
   "id": "f27ecacc",
   "metadata": {},
   "outputs": [],
   "source": [
    "cnts, hierarchy = cv2.findContours(image=smooth, mode=cv2.RETR_TREE, method=cv2.CHAIN_APPROX_NONE)"
   ]
  },
  {
   "cell_type": "code",
   "execution_count": 293,
   "id": "f94cb05d",
   "metadata": {},
   "outputs": [],
   "source": [
    "cp = src.copy()"
   ]
  },
  {
   "cell_type": "code",
   "execution_count": 294,
   "id": "788dd01f",
   "metadata": {},
   "outputs": [
    {
     "data": {
      "text/plain": [
       "array([[[  0,   0, 255],\n",
       "        [  0,   0, 255],\n",
       "        [  0,   0, 255],\n",
       "        ...,\n",
       "        [  0,   0, 255],\n",
       "        [  0,   0, 255],\n",
       "        [  0,   0, 255]],\n",
       "\n",
       "       [[  0,   0, 255],\n",
       "        [  0,   0, 255],\n",
       "        [  0,   0, 255],\n",
       "        ...,\n",
       "        [  0,   0, 255],\n",
       "        [  0,   0, 255],\n",
       "        [  0,   0, 255]],\n",
       "\n",
       "       [[  0,   0, 255],\n",
       "        [  0,   0, 255],\n",
       "        [ 92,  92, 255],\n",
       "        ...,\n",
       "        [  0,   0, 255],\n",
       "        [  0,   0, 255],\n",
       "        [  0,   0, 255]],\n",
       "\n",
       "       ...,\n",
       "\n",
       "       [[  0,   0, 255],\n",
       "        [  0,   0, 255],\n",
       "        [  0,   0, 255],\n",
       "        ...,\n",
       "        [  0,   0, 255],\n",
       "        [  0,   0, 255],\n",
       "        [  0,   0, 255]],\n",
       "\n",
       "       [[  0,   0, 255],\n",
       "        [  0,   0, 255],\n",
       "        [  0,   0, 255],\n",
       "        ...,\n",
       "        [  0,   0, 255],\n",
       "        [  0,   0, 255],\n",
       "        [  0,   0, 255]],\n",
       "\n",
       "       [[  0,   0, 255],\n",
       "        [  0,   0, 255],\n",
       "        [  0,   0, 255],\n",
       "        ...,\n",
       "        [  0,   0, 255],\n",
       "        [  0,   0, 255],\n",
       "        [  0,   0, 255]]], dtype=uint8)"
      ]
     },
     "execution_count": 294,
     "metadata": {},
     "output_type": "execute_result"
    }
   ],
   "source": [
    "cv2.drawContours(image=cp, contours=cnts, contourIdx=-1, color=(0,0,255), thickness=2, lineType=cv2.LINE_AA)\n"
   ]
  },
  {
   "cell_type": "code",
   "execution_count": 295,
   "id": "2fe6622a",
   "metadata": {},
   "outputs": [],
   "source": [
    "cv2.imshow('detected contours',cp)\n",
    "cv2.waitKey(0)\n",
    "cv2.destroyAllWindows()"
   ]
  },
  {
   "cell_type": "code",
   "execution_count": 296,
   "id": "8c7361e1",
   "metadata": {},
   "outputs": [],
   "source": [
    "# sort extracted contours\n",
    "cnts,_ = contours.sort_contours(cnts,method='left-to-right')\n",
    "cnts,_ = contours.sort_contours(cnts,method='top-to-bottom')"
   ]
  },
  {
   "cell_type": "markdown",
   "id": "b0eada01",
   "metadata": {},
   "source": [
    "### plot contours of each cell forming bounding box"
   ]
  },
  {
   "cell_type": "code",
   "execution_count": 297,
   "id": "50d5a347",
   "metadata": {},
   "outputs": [],
   "source": [
    "cp = src.copy()\n",
    "count=0\n",
    "for c in cnts:\n",
    "#     print(cv2.contourArea(c))\n",
    "    if(cv2.contourArea(c)>1000 and cv2.contourArea(c)<5000):\n",
    "        count = count+1\n",
    "        rect = cv2.boundingRect(c)\n",
    "        x,y,w,h = rect\n",
    "        cv2.rectangle(cp,(x,y),(x+w,y+h),(0,255,0),2)\n",
    "#         cv2.imshow('letters',cp[y:y+h,x:x+w])\n",
    "        cv2.imshow('black white image',cp)\n",
    "        cv2.waitKey(500)\n",
    "cv2.destroyAllWindows()\n"
   ]
  },
  {
   "cell_type": "code",
   "execution_count": 197,
   "id": "671556e5",
   "metadata": {},
   "outputs": [],
   "source": [
    "# cp = src.copy()\n",
    "# count = 0\n",
    "# for c in cnts:\n",
    "#     if(cv2.contourArea(c)>300 and cv2.contourArea(c)<1000):\n",
    "#         count = count+1\n",
    "#         rect = cv2.boundingRect(c)\n",
    "#         x,y,w,h = rect\n",
    "#         cv2.rectangle(cp,(x,y),(x+w,y+h),(0,255,0),2)\n",
    "# #         cv2.imshow('letters',cp[y:y+h,x:x+w])\n",
    "#         cv2.imshow('black white image',cp)\n",
    "#         cv2.waitKey(500)\n",
    "# cv2.destroyAllWindows()"
   ]
  },
  {
   "cell_type": "markdown",
   "id": "63d1ab37",
   "metadata": {},
   "source": [
    "### save each cell within bounding box as image. This image will be used as input for trained CNN model for prediction"
   ]
  },
  {
   "cell_type": "code",
   "execution_count": 198,
   "id": "95f2669c",
   "metadata": {},
   "outputs": [],
   "source": [
    "# import imageio\n",
    "\n",
    "# cp = src.copy()\n",
    "# count = 0\n",
    "# for c in cnts:\n",
    "#     if(cv2.contourArea(c)>300 and cv2.contourArea(c)<1000):\n",
    "#         count = count+1\n",
    "#         rect = cv2.boundingRect(c)\n",
    "#         x,y,w,h = rect\n",
    "#         array = np.array(cp[y:y+h,x:x+w])\n",
    "#         imageio.imwrite('numbers/image_{}.jpeg'.format(count),array)\n",
    "#         print(array)"
   ]
  },
  {
   "cell_type": "markdown",
   "id": "3a09250d",
   "metadata": {},
   "source": [
    "### use pytesseract for OCR (optical character recognition)\n",
    "### I will also be demonstrating, the use of CNN-model for OCR"
   ]
  },
  {
   "cell_type": "code",
   "execution_count": 298,
   "id": "024c5047",
   "metadata": {},
   "outputs": [],
   "source": [
    "import pytesseract\n",
    "import os\n",
    "\n",
    "def convert_gray(img):\n",
    "    im = cv2.imread(img)\n",
    "    return cv2.cvtColor(im,cv2.COLOR_BGR2GRAY)\n",
    "# custom_config = r'--oem 3 --psm 6 outputbase digits'\n",
    "def get_num(img):\n",
    "    return pytesseract.image_to_string(img, config=r'--oem 3 --psm 6 outputbase digits')"
   ]
  },
  {
   "cell_type": "code",
   "execution_count": 299,
   "id": "be617a28",
   "metadata": {},
   "outputs": [],
   "source": [
    "import imageio\n",
    "\n",
    "cp = src.copy()\n",
    "count = 0\n",
    "num= []\n",
    "for c in cnts:\n",
    "    if(cv2.contourArea(c)>1000 and cv2.contourArea(c)<5000):\n",
    "        count = count+1\n",
    "        rect = cv2.boundingRect(c)\n",
    "        x,y,w,h = rect\n",
    "        array = np.array(cp[y:y+h,x:x+w])\n",
    "        num.append(get_num(array))\n",
    "#         imageio.imwrite('numbers/image_{}.jpeg'.format(count),array)\n",
    "#         print(array)"
   ]
  },
  {
   "cell_type": "code",
   "execution_count": 201,
   "id": "b9156420",
   "metadata": {},
   "outputs": [],
   "source": [
    "# import pytesseract\n",
    "# import os"
   ]
  },
  {
   "cell_type": "code",
   "execution_count": 202,
   "id": "2f734c55",
   "metadata": {},
   "outputs": [],
   "source": [
    "# def convert_gray(img):\n",
    "#     im = cv2.imread(img)\n",
    "#     return cv2.cvtColor(im,cv2.COLOR_BGR2GRAY)\n",
    "# # custom_config = r'--oem 3 --psm 6 outputbase digits'\n",
    "# def get_num(img):\n",
    "#     return pytesseract.image_to_string(img, config=r'--oem 3 --psm 6 outputbase digits')"
   ]
  },
  {
   "cell_type": "code",
   "execution_count": 203,
   "id": "92833ad4",
   "metadata": {},
   "outputs": [],
   "source": [
    "# num = []\n",
    "# i=1\n",
    "# for file in os.listdir('numbers/'):\n",
    "# #     print('numbers/image_{}'.format(i)+'.jpeg')\n",
    "#     num.append(get_num(convert_gray('numbers/image_{}'.format(i)+'.jpeg')))\n",
    "#     i = i+1"
   ]
  },
  {
   "cell_type": "code",
   "execution_count": 300,
   "id": "1226e2ae",
   "metadata": {},
   "outputs": [
    {
     "data": {
      "text/plain": [
       "81"
      ]
     },
     "execution_count": 300,
     "metadata": {},
     "output_type": "execute_result"
    }
   ],
   "source": [
    "len(num)"
   ]
  },
  {
   "cell_type": "code",
   "execution_count": 301,
   "id": "80201073",
   "metadata": {},
   "outputs": [
    {
     "name": "stdout",
     "output_type": "stream",
     "text": [
      "[['7\\n\\x0c', '8\\n\\x0c', '\\x0c', '4\\n\\x0c', '\\x0c', '\\x0c', '1\\n\\x0c', '2\\n\\x0c', '\\x0c'], ['6\\n\\x0c', '\\x0c', '\\x0c', '\\x0c', '7\\n\\x0c', '5\\n\\x0c', '\\x0c', '\\x0c', '9\\n\\x0c'], ['\\x0c', '\\x0c', '\\x0c', '6\\n\\x0c', '\\x0c', '1\\n\\x0c', '\\x0c', '7\\n\\x0c', '8\\n\\x0c'], ['\\x0c', '\\x0c', '7\\n\\x0c', '\\x0c', '4\\n\\x0c', '\\x0c', '2\\n\\x0c', '6\\n\\x0c', '\\x0c'], ['\\x0c', '\\x0c', '1\\n\\x0c', '\\x0c', '5\\n\\x0c', '\\x0c', '9\\n\\x0c', '3\\n\\x0c', '\\x0c'], ['9\\n\\x0c', '\\x0c', '4\\n\\x0c', '\\x0c', '6\\n\\x0c', '\\x0c', '\\x0c', '\\x0c', '5\\n\\x0c'], ['\\x0c', '7\\n\\x0c', '\\x0c', '3\\n\\x0c', '\\x0c', '\\x0c', '\\x0c', '1\\n\\x0c', '2\\n\\x0c'], ['1\\n\\x0c', '2\\n\\x0c', '\\x0c', '\\x0c', '\\x0c', '7\\n\\x0c', '4\\n\\x0c', '\\x0c', '\\x0c'], ['\\x0c', '4\\n\\x0c', '9\\n\\x0c', '2\\n\\x0c', '\\x0c', '6\\n\\x0c', '\\x0c', '\\x0c', '7\\n\\x0c']]\n"
     ]
    }
   ],
   "source": [
    "def divide_chunks(l, n):\n",
    "    for i in range(0, len(l), n): \n",
    "        yield l[i:i + n]\n",
    "  \n",
    "n = 9\n",
    "matrix = list(divide_chunks(num, n))\n",
    "print (matrix)"
   ]
  },
  {
   "cell_type": "code",
   "execution_count": 302,
   "id": "2e84b432",
   "metadata": {},
   "outputs": [
    {
     "data": {
      "text/plain": [
       "'7\\n\\x0c'"
      ]
     },
     "execution_count": 302,
     "metadata": {},
     "output_type": "execute_result"
    }
   ],
   "source": [
    "matrix[0][0]"
   ]
  },
  {
   "cell_type": "code",
   "execution_count": 303,
   "id": "bb4e1bcb",
   "metadata": {},
   "outputs": [],
   "source": [
    "import copy\n",
    "mat = copy.deepcopy(matrix)\n",
    "for n in mat:\n",
    "    for j,i in enumerate(n):\n",
    "        if i=='\\x0c':\n",
    "            n[j]=i.replace('\\x0c','0')\n",
    "        else:\n",
    "            n[j]=i.replace(i,i[0])\n",
    "            "
   ]
  },
  {
   "cell_type": "code",
   "execution_count": 304,
   "id": "242d5257",
   "metadata": {},
   "outputs": [
    {
     "data": {
      "text/plain": [
       "[['7', '8', '0', '4', '0', '0', '1', '2', '0'],\n",
       " ['6', '0', '0', '0', '7', '5', '0', '0', '9'],\n",
       " ['0', '0', '0', '6', '0', '1', '0', '7', '8'],\n",
       " ['0', '0', '7', '0', '4', '0', '2', '6', '0'],\n",
       " ['0', '0', '1', '0', '5', '0', '9', '3', '0'],\n",
       " ['9', '0', '4', '0', '6', '0', '0', '0', '5'],\n",
       " ['0', '7', '0', '3', '0', '0', '0', '1', '2'],\n",
       " ['1', '2', '0', '0', '0', '7', '4', '0', '0'],\n",
       " ['0', '4', '9', '2', '0', '6', '0', '0', '7']]"
      ]
     },
     "execution_count": 304,
     "metadata": {},
     "output_type": "execute_result"
    }
   ],
   "source": [
    "mat"
   ]
  },
  {
   "cell_type": "code",
   "execution_count": 305,
   "id": "707c83cc",
   "metadata": {},
   "outputs": [],
   "source": [
    "for row in mat:\n",
    "    for i,j in enumerate(row):\n",
    "        row[i] = int(j)"
   ]
  },
  {
   "cell_type": "code",
   "execution_count": 306,
   "id": "5ce1575f",
   "metadata": {},
   "outputs": [
    {
     "data": {
      "text/plain": [
       "[[7, 8, 0, 4, 0, 0, 1, 2, 0],\n",
       " [6, 0, 0, 0, 7, 5, 0, 0, 9],\n",
       " [0, 0, 0, 6, 0, 1, 0, 7, 8],\n",
       " [0, 0, 7, 0, 4, 0, 2, 6, 0],\n",
       " [0, 0, 1, 0, 5, 0, 9, 3, 0],\n",
       " [9, 0, 4, 0, 6, 0, 0, 0, 5],\n",
       " [0, 7, 0, 3, 0, 0, 0, 1, 2],\n",
       " [1, 2, 0, 0, 0, 7, 4, 0, 0],\n",
       " [0, 4, 9, 2, 0, 6, 0, 0, 7]]"
      ]
     },
     "execution_count": 306,
     "metadata": {},
     "output_type": "execute_result"
    }
   ],
   "source": [
    "mat"
   ]
  },
  {
   "cell_type": "code",
   "execution_count": 307,
   "id": "e2a14af9",
   "metadata": {},
   "outputs": [],
   "source": [
    "grid= copy.deepcopy(mat)"
   ]
  },
  {
   "cell_type": "markdown",
   "id": "75d9195f",
   "metadata": {},
   "source": [
    "## puzzle solving "
   ]
  },
  {
   "cell_type": "code",
   "execution_count": 308,
   "id": "9f20ee13",
   "metadata": {},
   "outputs": [
    {
     "name": "stdout",
     "output_type": "stream",
     "text": [
      "[[7, 8, 5, 4, 3, 9, 1, 2, 6], [6, 1, 2, 8, 7, 5, 3, 4, 9], [4, 9, 3, 6, 2, 1, 5, 7, 8], [8, 5, 7, 9, 4, 3, 2, 6, 1], [2, 6, 1, 7, 5, 8, 9, 3, 4], [9, 3, 4, 1, 6, 2, 7, 8, 5], [5, 7, 8, 3, 9, 4, 6, 1, 2], [1, 2, 6, 5, 8, 7, 4, 9, 3], [3, 4, 9, 2, 1, 6, 8, 5, 7]]\n"
     ]
    }
   ],
   "source": [
    "M = 9\n",
    "def puzzle(a):\n",
    "    for i in range(M):\n",
    "        for j in range(M):\n",
    "            print(a[i][j],end = \" \")\n",
    "        print()\n",
    "def solve(grid, row, col, num):\n",
    "    for x in range(9):\n",
    "        if grid[row][x] == num:\n",
    "            return False\n",
    "             \n",
    "    for x in range(9):\n",
    "        if grid[x][col] == num:\n",
    "            return False\n",
    " \n",
    " \n",
    "    startRow = row - row % 3\n",
    "    startCol = col - col % 3\n",
    "    for i in range(3):\n",
    "        for j in range(3):\n",
    "            if grid[i + startRow][j + startCol] == num:\n",
    "                return False\n",
    "    return True\n",
    " \n",
    "def Suduko(grid, row, col):\n",
    " \n",
    "    if (row == M - 1 and col == M):\n",
    "        return True\n",
    "    if col == M:\n",
    "        row += 1\n",
    "        col = 0\n",
    "    if grid[row][col] > 0:\n",
    "        return Suduko(grid, row, col + 1)\n",
    "    for num in range(1, M + 1, 1): \n",
    "     \n",
    "        if solve(grid, row, col, num):\n",
    "         \n",
    "            grid[row][col] = num\n",
    "            if Suduko(grid, row, col + 1):\n",
    "                return True\n",
    "        grid[row][col] = 0\n",
    "    return False\n",
    "\n",
    "\n",
    "if (Suduko(grid, 0, 0)):\n",
    "    print(grid)\n",
    "#     puzzle(grid)\n",
    "else:\n",
    "    print(\"Solution does not exist:(\")"
   ]
  },
  {
   "cell_type": "code",
   "execution_count": 309,
   "id": "2e3e77ac",
   "metadata": {},
   "outputs": [],
   "source": [
    "bound = []\n",
    "for c in cnts:\n",
    "    if(cv2.contourArea(c)>1000 and cv2.contourArea(c)<5000):\n",
    "        count = count+1\n",
    "        rect = cv2.boundingRect(c)\n",
    "        bound.append(rect)"
   ]
  },
  {
   "cell_type": "code",
   "execution_count": 310,
   "id": "b105d554",
   "metadata": {},
   "outputs": [
    {
     "data": {
      "text/plain": [
       "81"
      ]
     },
     "execution_count": 310,
     "metadata": {},
     "output_type": "execute_result"
    }
   ],
   "source": [
    "len(bound)"
   ]
  },
  {
   "cell_type": "code",
   "execution_count": 311,
   "id": "3e98a926",
   "metadata": {},
   "outputs": [
    {
     "data": {
      "text/plain": [
       "[[7, 8, 5, 4, 3, 9, 1, 2, 6],\n",
       " [6, 1, 2, 8, 7, 5, 3, 4, 9],\n",
       " [4, 9, 3, 6, 2, 1, 5, 7, 8],\n",
       " [8, 5, 7, 9, 4, 3, 2, 6, 1],\n",
       " [2, 6, 1, 7, 5, 8, 9, 3, 4],\n",
       " [9, 3, 4, 1, 6, 2, 7, 8, 5],\n",
       " [5, 7, 8, 3, 9, 4, 6, 1, 2],\n",
       " [1, 2, 6, 5, 8, 7, 4, 9, 3],\n",
       " [3, 4, 9, 2, 1, 6, 8, 5, 7]]"
      ]
     },
     "execution_count": 311,
     "metadata": {},
     "output_type": "execute_result"
    }
   ],
   "source": [
    "grid"
   ]
  },
  {
   "cell_type": "code",
   "execution_count": 312,
   "id": "9c1c4884",
   "metadata": {},
   "outputs": [
    {
     "data": {
      "text/plain": [
       "[[7, 8, 0, 4, 0, 0, 1, 2, 0],\n",
       " [6, 0, 0, 0, 7, 5, 0, 0, 9],\n",
       " [0, 0, 0, 6, 0, 1, 0, 7, 8],\n",
       " [0, 0, 7, 0, 4, 0, 2, 6, 0],\n",
       " [0, 0, 1, 0, 5, 0, 9, 3, 0],\n",
       " [9, 0, 4, 0, 6, 0, 0, 0, 5],\n",
       " [0, 7, 0, 3, 0, 0, 0, 1, 2],\n",
       " [1, 2, 0, 0, 0, 7, 4, 0, 0],\n",
       " [0, 4, 9, 2, 0, 6, 0, 0, 7]]"
      ]
     },
     "execution_count": 312,
     "metadata": {},
     "output_type": "execute_result"
    }
   ],
   "source": [
    "mat"
   ]
  },
  {
   "cell_type": "code",
   "execution_count": 313,
   "id": "0b7cf884",
   "metadata": {},
   "outputs": [
    {
     "name": "stdout",
     "output_type": "stream",
     "text": [
      "[[(4, 34, 57, 57), (64, 34, 57, 57), (124, 34, 56, 57), (186, 34, 55, 57), (244, 34, 57, 57), (304, 34, 56, 57), (366, 34, 55, 57), (424, 34, 57, 57), (484, 34, 56, 57)], [(4, 94, 57, 57), (64, 94, 57, 57), (124, 94, 56, 57), (186, 94, 55, 57), (244, 94, 57, 57), (304, 94, 56, 57), (366, 94, 55, 57), (424, 94, 57, 57), (484, 94, 56, 57)], [(4, 154, 57, 56), (64, 154, 57, 56), (124, 154, 56, 56), (186, 154, 55, 56), (244, 154, 57, 56), (304, 154, 56, 56), (366, 154, 55, 56), (424, 154, 57, 56), (484, 154, 56, 56)], [(4, 216, 57, 55), (64, 216, 57, 55), (124, 216, 56, 55), (186, 216, 55, 55), (244, 216, 57, 55), (304, 216, 56, 55), (366, 216, 55, 55), (424, 216, 57, 55), (484, 216, 56, 55)], [(4, 274, 57, 57), (64, 274, 57, 57), (124, 274, 56, 57), (186, 274, 55, 57), (244, 274, 57, 57), (304, 274, 56, 57), (366, 274, 55, 57), (424, 274, 57, 57), (484, 274, 56, 57)], [(4, 334, 57, 56), (64, 334, 57, 56), (124, 334, 56, 56), (186, 334, 55, 56), (244, 334, 57, 56), (304, 334, 56, 56), (366, 334, 55, 56), (424, 334, 57, 56), (484, 334, 56, 56)], [(4, 396, 57, 55), (64, 396, 57, 55), (124, 396, 56, 55), (186, 396, 55, 55), (244, 396, 57, 55), (304, 396, 56, 55), (366, 396, 55, 55), (424, 396, 57, 55), (484, 396, 56, 55)], [(4, 454, 57, 57), (64, 454, 57, 57), (124, 454, 56, 57), (186, 454, 55, 57), (244, 454, 57, 57), (304, 454, 56, 57), (366, 454, 55, 57), (424, 454, 57, 57), (484, 454, 56, 57)], [(4, 514, 57, 56), (64, 514, 57, 56), (124, 514, 56, 56), (186, 514, 55, 56), (244, 514, 57, 56), (304, 514, 56, 56), (366, 514, 55, 56), (424, 514, 57, 56), (484, 514, 56, 56)]]\n"
     ]
    }
   ],
   "source": [
    "n = 9\n",
    "bound = list(divide_chunks(bound, n))\n",
    "print (bound)"
   ]
  },
  {
   "cell_type": "code",
   "execution_count": 314,
   "id": "997689c5",
   "metadata": {},
   "outputs": [],
   "source": [
    "cp = src.copy()\n",
    "for i,m in enumerate(mat):\n",
    "    for j,n in enumerate(m):\n",
    "        if(mat[i][j]!=grid[i][j]):\n",
    "            x,y,w,h = bound[i][j]\n",
    "#             cv2.rectangle(cp,(x,y),(x+w,y+h),(0,255,0),2)\n",
    "            cv2.putText(cp,str(grid[i][j]),(x+w-20,y+h-20),0,0.9,(0,0,255))          "
   ]
  },
  {
   "cell_type": "code",
   "execution_count": 316,
   "id": "400599a1",
   "metadata": {},
   "outputs": [],
   "source": [
    "cv2.imshow('im',cp)\n",
    "cv2.waitKey(0)\n",
    "cv2.destroyAllWindows()"
   ]
  },
  {
   "cell_type": "code",
   "execution_count": null,
   "id": "a95b231e",
   "metadata": {},
   "outputs": [],
   "source": []
  }
 ],
 "metadata": {
  "kernelspec": {
   "display_name": "Python 3 (ipykernel)",
   "language": "python",
   "name": "python3"
  },
  "language_info": {
   "codemirror_mode": {
    "name": "ipython",
    "version": 3
   },
   "file_extension": ".py",
   "mimetype": "text/x-python",
   "name": "python",
   "nbconvert_exporter": "python",
   "pygments_lexer": "ipython3",
   "version": "3.9.6"
  }
 },
 "nbformat": 4,
 "nbformat_minor": 5
}
